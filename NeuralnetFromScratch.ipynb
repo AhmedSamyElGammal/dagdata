{
  "nbformat": 4,
  "nbformat_minor": 0,
  "metadata": {
    "colab": {
      "provenance": [],
      "authorship_tag": "ABX9TyOOrUTV5Myqco5cEG2Yj1Px",
      "include_colab_link": true
    },
    "kernelspec": {
      "name": "python3",
      "display_name": "Python 3"
    },
    "language_info": {
      "name": "python"
    }
  },
  "cells": [
    {
      "cell_type": "markdown",
      "metadata": {
        "id": "view-in-github",
        "colab_type": "text"
      },
      "source": [
        "<a href=\"https://colab.research.google.com/github/AhmedSamyElGammal/dagdata/blob/master/NeuralnetFromScratch.ipynb\" target=\"_parent\"><img src=\"https://colab.research.google.com/assets/colab-badge.svg\" alt=\"Open In Colab\"/></a>"
      ]
    },
    {
      "cell_type": "markdown",
      "source": [
        "#buliding a two-layer neural network from scratch"
      ],
      "metadata": {
        "id": "P5gWUFEb95Ir"
      }
    },
    {
      "cell_type": "code",
      "source": [
        "## importing the required libs\n",
        "import numpy as np\n",
        "import os\n",
        "import pickle"
      ],
      "metadata": {
        "id": "x4hhYPzk9w_3"
      },
      "execution_count": null,
      "outputs": []
    },
    {
      "cell_type": "code",
      "source": [
        "## machine learning basic functions\n",
        "\n",
        "# loss functions\n",
        "class loss:\n",
        "  # Mean absolute error\n",
        "  def L1(y_predicted, y_true):\n",
        "    return np.abs(y_predicted -y_true).mean()\n",
        "\n",
        "  # Mean squared error\n",
        "  def L2(y_predicted, y_true):\n",
        "    return np.square(y_predicted -y_true).mean()\n",
        "\n",
        "  # for binary classification, we will use\n",
        "  def binaryCrossEntropy(y_predicted, y_true):\n",
        "    return -(y_true*np.log10(y_predicted) +(1 -y_true)*np.log10(1 -y_predicted)).mean()\n",
        "\n",
        "\n",
        "# activation functions\n",
        "class activations:\n",
        "  # ReLU\n",
        "  class ReLU:\n",
        "    # the main ReLU function\n",
        "    def main(x):\n",
        "      return np.maximum(0, x)\n",
        "    # the derivative of the ReLU function\n",
        "    def derivative(x):\n",
        "      return np.greater(x, 0).astype(int)\n",
        "\n",
        "  # sigmoid\n",
        "  class sigmoid:\n",
        "    # the main sigmoid function\n",
        "    def main(x):\n",
        "      return 1/(1 +np.exp(-x))\n",
        "    # the derivative of the sigmoid function\n",
        "    def derivative(x):\n",
        "      return activations.sigmoid.main(x) * (1 -activations.sigmoid.main(x))"
      ],
      "metadata": {
        "id": "FRKvUKg_-juB"
      },
      "execution_count": null,
      "outputs": []
    },
    {
      "cell_type": "code",
      "source": [
        "class RegressionNN:\n",
        "  def __init__(self, structure, active = activations.sigmoid, loss = loss.L2) -> None:\n",
        "    self.inputNum = structure[0]\n",
        "    self.outputNum = structure[-1]\n",
        "    self.hiddenLayers = structure[1:-1] # hidden layers could be more than just one, so it is list\n",
        "    self.active = active\n",
        "    self.loss = loss\n",
        "\n",
        "  def forward(self, X):\n",
        "    pass\n",
        "\n",
        "  def train(self, X_train, y_train):\n",
        "    pass\n",
        "\n",
        "  def test(self, X_test, y_test):\n",
        "    pass\n",
        "\n",
        "  def save(self, name):\n",
        "    pass\n",
        "\n",
        "  def load(self, name):\n",
        "    pass"
      ],
      "metadata": {
        "id": "Qs57YIT7WMNk"
      },
      "execution_count": null,
      "outputs": []
    },
    {
      "cell_type": "code",
      "source": [
        "### intial testing area\n",
        "a = np.array([-2, -3, 2, 0, 2, -1])\n",
        "b = np.array([0, 1, 0, 1])\n",
        "\n",
        "activations.sigmoid.derivative(a)"
      ],
      "metadata": {
        "colab": {
          "base_uri": "https://localhost:8080/"
        },
        "id": "8xyc4n_xCvSc",
        "outputId": "1a446ac4-afa6-48c0-9b7b-01da13d6b5a0"
      },
      "execution_count": null,
      "outputs": [
        {
          "output_type": "execute_result",
          "data": {
            "text/plain": [
              "array([0.10499359, 0.04517666, 0.10499359, 0.25      , 0.10499359,\n",
              "       0.19661193])"
            ]
          },
          "metadata": {},
          "execution_count": 96
        }
      ]
    },
    {
      "cell_type": "code",
      "source": [],
      "metadata": {
        "id": "7kbe2s0kcR74"
      },
      "execution_count": null,
      "outputs": []
    }
  ]
}