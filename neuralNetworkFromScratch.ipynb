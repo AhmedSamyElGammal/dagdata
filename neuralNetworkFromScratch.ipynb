{
  "nbformat": 4,
  "nbformat_minor": 0,
  "metadata": {
    "colab": {
      "provenance": [],
      "authorship_tag": "ABX9TyO9Qg5iO2gmWp0bIQkWMCaD",
      "include_colab_link": true
    },
    "kernelspec": {
      "name": "python3",
      "display_name": "Python 3"
    },
    "language_info": {
      "name": "python"
    }
  },
  "cells": [
    {
      "cell_type": "markdown",
      "metadata": {
        "id": "view-in-github",
        "colab_type": "text"
      },
      "source": [
        "<a href=\"https://colab.research.google.com/github/AhmedSamyElGammal/dagdata/blob/master/neuralNetworkFromScratch.ipynb\" target=\"_parent\"><img src=\"https://colab.research.google.com/assets/colab-badge.svg\" alt=\"Open In Colab\"/></a>"
      ]
    },
    {
      "cell_type": "markdown",
      "source": [
        "#buliding a two-layer neural network from scratch"
      ],
      "metadata": {
        "id": "P5gWUFEb95Ir"
      }
    },
    {
      "cell_type": "code",
      "source": [
        "## importing the required libs\n",
        "import numpy as np\n",
        "import os\n",
        "import pickle"
      ],
      "metadata": {
        "id": "x4hhYPzk9w_3"
      },
      "execution_count": 124,
      "outputs": []
    },
    {
      "cell_type": "code",
      "source": [
        "## machine learning basic functions\n",
        "\n",
        "# loss functions\n",
        "class loss:\n",
        "  # Mean absolute error\n",
        "  def L1(y_predicted, y_true):\n",
        "    return np.abs(y_predicted -y_true).mean()\n",
        "\n",
        "  # Mean squared error\n",
        "  def L2(y_predicted, y_true):\n",
        "    return np.square(y_predicted -y_true).mean()\n",
        "\n",
        "  # for binary classification, we will use\n",
        "  def binaryCrossEntropy(y_predicted, y_true):\n",
        "    return -(y_true*np.log10(y_predicted) +(1 -y_true)*np.log10(1 -y_predicted)).mean()\n",
        "\n",
        "\n",
        "# weight initialization functions\n",
        "class weightInitializations:\n",
        "  def Glorot(fanIn, fanOut):\n",
        "    return np.sqrt(2/(fanIn +fanOut))\n",
        "\n",
        "  def He(fanIn):\n",
        "    return np.sqrt(2/fanIn) \n",
        "\n",
        "  def LeCun(fanIn):\n",
        "    return np.sqrt(1/fanIn)\n",
        "\n",
        "\n",
        "# activation functions\n",
        "class activations:\n",
        "  # ReLU\n",
        "  class ReLU:\n",
        "    # the main ReLU function\n",
        "    def main(x):\n",
        "      return np.maximum(0, x)\n",
        "    # the derivative of the ReLU function\n",
        "    def derivative(x):\n",
        "      return np.greater(x, 0).astype(int)\n",
        "    # its weight initialization function\n",
        "    def initia(fanIn, fanOut):\n",
        "      return weightInitializations.He(fanIn)\n",
        "\n",
        "  # sigmoid\n",
        "  class sigmoid:\n",
        "    # the main sigmoid function\n",
        "    def main(x):\n",
        "      return 1/(1 +np.exp(-x))\n",
        "    # the derivative of the sigmoid function\n",
        "    def derivative(x):\n",
        "      return activations.sigmoid.main(x) * (1 -activations.sigmoid.main(x))\n",
        "    # its weight initialization function\n",
        "    def initia(fanIn, fanOut):\n",
        "      return weightInitializations.Glorot(fanIn, fanOut)\n",
        "\n"
      ],
      "metadata": {
        "id": "FRKvUKg_-juB"
      },
      "execution_count": 125,
      "outputs": []
    },
    {
      "cell_type": "code",
      "source": [
        "## creating the neural network\n",
        "class RegressionNN:\n",
        "  def __init__(self, structure, active = activations.sigmoid, loss = loss.L2) -> None:\n",
        "    # basic neural network Properties\n",
        "    self.__structure = structure\n",
        "    self.__inputNum = structure[0]\n",
        "    self.__outputNum = structure[-1]\n",
        "    self.__hiddenLayers = structure[1:-1] # hidden layers could be more than just one, so it is list\n",
        "    self.__active = active\n",
        "    self.__loss = loss\n",
        "\n",
        "    # weight initialization\n",
        "    self.__weights = []\n",
        "    for i in range(len(self.__structure) -1):\n",
        "      # we will use a special distribution to get better initial weight\n",
        "      self.__weights.append(np.random.normal(0, self.__active.initia(fanIn= self.__inputNum, fanOut= self.__outputNum),\n",
        "                                      size= (self.__structure[i], self.__structure[i +1])))\n",
        "\n",
        "\n",
        "  def forward(self, X):\n",
        "    y = []\n",
        "    for n in range(X.shape[0]):\n",
        "      handel = X[n]\n",
        "      for j in range(len(self.__structure) -1):\n",
        "        handel = np.dot(handel, self.__weights[j])\n",
        "      y.append(handel) # add the final result for each input in an array\n",
        "    return np.array(y).reshape(len(X), self.__outputNum) # I have to use a python list in the frist as\n",
        "                                                         # it is more easy to deal with in appending the\n",
        "                                                         # result to as an empty container than numpy array\n",
        "\n",
        "\n",
        "  def train(self, X_train, y_train):\n",
        "    pass\n",
        "\n",
        "\n",
        "  def test(self, X_test, y_test):\n",
        "    return self.__loss(self.forward(X_test), y_test)\n",
        "\n",
        "\n",
        "  def save(self, name):\n",
        "    pass\n",
        "\n",
        "\n",
        "  def load(self, name):\n",
        "    pass\n",
        "\n"
      ],
      "metadata": {
        "id": "Qs57YIT7WMNk"
      },
      "execution_count": 126,
      "outputs": []
    },
    {
      "cell_type": "code",
      "source": [
        "### intial testing area\n",
        "\n",
        "# creating dataset\n",
        "X = np.hstack((np.random.uniform(-4, 6, size= (50, 1)), np.random.uniform(-9, 2, size= (50, 1)))) # its size is (50, 2)\n",
        "y = np.dot(X, np.array([[3], [-5]])) -2.5 #its size is (50, 1)\n",
        "\n",
        "# spliting the data\n",
        "X_train, X_test = X[0:40], X[40:]\n",
        "y_train, y_test = y[0:40], X[40:]\n",
        "\n",
        "# use the model\n",
        "model = RegressionNN([2, 4, 3, 1], loss= loss.L1)\n",
        "model.test(X_test, y_test)\n"
      ],
      "metadata": {
        "colab": {
          "base_uri": "https://localhost:8080/"
        },
        "id": "8xyc4n_xCvSc",
        "outputId": "c86b3b02-32ee-4caa-bc03-359a7a6eb74d"
      },
      "execution_count": 128,
      "outputs": [
        {
          "output_type": "execute_result",
          "data": {
            "text/plain": [
              "10.081055548562603"
            ]
          },
          "metadata": {},
          "execution_count": 128
        }
      ]
    },
    {
      "cell_type": "code",
      "source": [],
      "metadata": {
        "id": "mkPNl4eEhnxS"
      },
      "execution_count": 127,
      "outputs": []
    }
  ]
}